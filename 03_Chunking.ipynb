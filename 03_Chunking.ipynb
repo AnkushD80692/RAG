{
 "cells": [
  {
   "cell_type": "code",
   "execution_count": 2,
   "metadata": {},
   "outputs": [],
   "source": [
    "import pdfplumber"
   ]
  },
  {
   "cell_type": "code",
   "execution_count": 3,
   "metadata": {},
   "outputs": [
    {
     "name": "stdout",
     "output_type": "stream",
     "text": [
      "PART DISBURSEMENT ADVICE CUM INSTALLMENT ADVICE Date : 11-JAN-24 03:53 P.M.\n",
      "========================================================================================\n",
      "Loan Account No : 686857777\n",
      "Loan Product : RESIDENT HOME LOAN-VARIABLE RATE-MONTHLY REST\n",
      "Name : MR DESHMUKH ANKUSH SANJAYRAO\n",
      "Loan Sanctioned : Rs. 5990001\n",
      "Current Disbursement : Rs. 764287\n",
      "Total Loan Disbursed : Rs. 764287\n",
      "Loan Yet to be Disbursed : Rs. 5225714\n",
      "PRE-EMI Interest * @8.45% for the month of JAN-2024 . Rs. 3,716\n",
      "_______________________\n",
      "Total: 3716\n",
      "_______________________\n",
      "As per your request to commence repayment of principal prior to the loan being fully disbursed,\n",
      "this repayment option is being given till any further disbursement of the loan is made.\n",
      "EQUATED MONTHLY INSTALLMENT(EMI)\n",
      "EMI - From 01-FEB-2024 Rs. 5850 **\n",
      "till you avail of further disbursement.\n",
      "The EMI/s are payable during the month or on or before the due date.\n",
      "The rate of interest (ROI) will be subjected to reset*** on 01-MAR-24.\n",
      "Kindly arrange to submit the following original title documents to us at the earliest:\n",
      "1. NOI INDEX II\n",
      "2. LETTER OF INTIMATION OF MORTGAGE\n",
      "3. IGR RECEIPT\n",
      "Your registered communication details recorded with us are :\n",
      "Property Address:\n",
      "FLAT-1009,FLOOR-10, Mobile No: 7507265780\n",
      "RENUKA PANCHATATTVA BLDG AURA, Tel No : NOT AVAILABLE\n",
      "S NO 63/8,63/9/1,63/9/2,63/9/3,\n",
      "Email Id : ANKUSH8069@GMAIL.COM\n",
      ",NEAR LUSH RESIDENCES,,\n",
      "TATHAWADE, PUNE ,\n",
      ",PIMPRI CHINCHWAD-411033,MAHARASHTRA,I\n",
      "NDIA\n",
      "In case of any change in communication details please inform us in writing enclosing\n",
      "self attested copies of latest address proof. Please check our website www.hdfc.com for\n",
      "acceptable address proof documents in KYC section.\n",
      "For availing further disbursement, you can make requests/s at www.hdfc.com through your\n",
      "Web Userid :\n",
      "*- Preemi interest,\n",
      "***- Interest rate reset revision cycle.\n",
      "Shall all remain subject to terms and conditions of the Loan Agreement executed by you.The rate of interest is subject to any higher rate that may be prevailing at the time of\n",
      "subsequent/final disbursement.\n",
      "Received below payment/s\n",
      "Payable TO UTR No. Pay Mode Amount Disb Dt\n",
      "RENUKA REALTY PRIVATE N011242831500 NEFT 764287 11-JAN-24\n",
      "LIMITED,41752691961,STATE BANK OF INDIA, 597\n",
      "Signature of Customer/s Date :\n",
      "For HDFC Bank Ltd\n",
      "Authorised Signatory\n",
      "Adv Ref : 8632708 .\n"
     ]
    }
   ],
   "source": [
    "\n",
    "# Open the PDF file\n",
    "pdf_file_path = \"media/Renuka/HOME_LOAN/HELP_IN_DISBURSEMENT_2/disb_advice.pdf\"\n",
    "with pdfplumber.open(pdf_file_path) as pdf:\n",
    "    extracted_text = \"\"\n",
    "\n",
    "    # Iterate through each page and extract text\n",
    "    for page in pdf.pages:\n",
    "        extracted_text += page.extract_text()  # Extract text from the page\n",
    "\n",
    "# Print the extracted text\n",
    "print(extracted_text)"
   ]
  },
  {
   "cell_type": "code",
   "execution_count": 4,
   "metadata": {},
   "outputs": [],
   "source": [
    "from langchain.text_splitter import RecursiveCharacterTextSplitter\n"
   ]
  },
  {
   "cell_type": "code",
   "execution_count": 6,
   "metadata": {},
   "outputs": [
    {
     "name": "stdout",
     "output_type": "stream",
     "text": [
      "Chunk 1:\n",
      "PART DISBURSEMENT ADVICE CUM INSTALLMENT ADVICE Date : 11-JAN-24 03:53 P.M.\n",
      "========================================================================================\n",
      "Loan Account No : 686857777\n",
      "Loan Product : RESIDENT HOME LOAN-VARIABLE RATE-MONTHLY REST\n",
      "Name : MR DESHMUKH ANKUSH SANJAYRAO\n",
      "Loan Sanctioned : Rs. 5990001\n",
      "Current Disbursement : Rs. 764287\n",
      "Total Loan Disbursed : Rs. 764287\n",
      "Loan Yet to be Disbursed : Rs. 5225714\n",
      "PRE-EMI Interest * @8.45% for the month of JAN-2024 . Rs. 3,716\n",
      "\n",
      "Chunk 2:\n",
      "_______________________\n",
      "Total: 3716\n",
      "_______________________\n",
      "As per your request to commence repayment of principal prior to the loan being fully disbursed,\n",
      "this repayment option is being given till any further disbursement of the loan is made.\n",
      "EQUATED MONTHLY INSTALLMENT(EMI)\n",
      "EMI - From 01-FEB-2024 Rs. 5850 **\n",
      "till you avail of further disbursement.\n",
      "The EMI/s are payable during the month or on or before the due date.\n",
      "The rate of interest (ROI) will be subjected to reset*** on 01-MAR-24.\n",
      "\n",
      "Chunk 3:\n",
      "Kindly arrange to submit the following original title documents to us at the earliest:\n",
      "1. NOI INDEX II\n",
      "2. LETTER OF INTIMATION OF MORTGAGE\n",
      "3. IGR RECEIPT\n",
      "Your registered communication details recorded with us are :\n",
      "Property Address:\n",
      "FLAT-1009,FLOOR-10, Mobile No: 7507265780\n",
      "RENUKA PANCHATATTVA BLDG AURA, Tel No : NOT AVAILABLE\n",
      "S NO 63/8,63/9/1,63/9/2,63/9/3,\n",
      "Email Id : ANKUSH8069@GMAIL.COM\n",
      ",NEAR LUSH RESIDENCES,,\n",
      "TATHAWADE, PUNE ,\n",
      ",PIMPRI CHINCHWAD-411033,MAHARASHTRA,I\n",
      "NDIA\n",
      "\n",
      "Chunk 4:\n",
      "NDIA\n",
      "In case of any change in communication details please inform us in writing enclosing\n",
      "self attested copies of latest address proof. Please check our website www.hdfc.com for\n",
      "acceptable address proof documents in KYC section.\n",
      "For availing further disbursement, you can make requests/s at www.hdfc.com through your\n",
      "Web Userid :\n",
      "*- Preemi interest,\n",
      "***- Interest rate reset revision cycle.\n",
      "\n",
      "Chunk 5:\n",
      "Shall all remain subject to terms and conditions of the Loan Agreement executed by you.The rate of interest is subject to any higher rate that may be prevailing at the time of\n",
      "subsequent/final disbursement.\n",
      "Received below payment/s\n",
      "Payable TO UTR No. Pay Mode Amount Disb Dt\n",
      "RENUKA REALTY PRIVATE N011242831500 NEFT 764287 11-JAN-24\n",
      "LIMITED,41752691961,STATE BANK OF INDIA, 597\n",
      "Signature of Customer/s Date :\n",
      "For HDFC Bank Ltd\n",
      "Authorised Signatory\n",
      "Adv Ref : 8632708 .\n",
      "\n"
     ]
    }
   ],
   "source": [
    "# Sample long text to be chunked\n",
    "\n",
    "# Initialize the text splitter with chunk size and overlap size\n",
    "text_splitter = RecursiveCharacterTextSplitter(\n",
    "    chunk_size=500,  # Max number of characters per chunk\n",
    "    chunk_overlap=20  # Allow some overlap between chunks for better context preservation\n",
    ")\n",
    "\n",
    "# Split the text into chunks\n",
    "chunks = text_splitter.split_text(extracted_text)\n",
    "\n",
    "# Display the chunks\n",
    "for i, chunk in enumerate(chunks):\n",
    "    print(f\"Chunk {i+1}:\\n{chunk}\\n\")\n"
   ]
  },
  {
   "cell_type": "code",
   "execution_count": null,
   "metadata": {},
   "outputs": [],
   "source": []
  }
 ],
 "metadata": {
  "kernelspec": {
   "display_name": ".venv",
   "language": "python",
   "name": "python3"
  },
  "language_info": {
   "codemirror_mode": {
    "name": "ipython",
    "version": 3
   },
   "file_extension": ".py",
   "mimetype": "text/x-python",
   "name": "python",
   "nbconvert_exporter": "python",
   "pygments_lexer": "ipython3",
   "version": "3.9.13"
  }
 },
 "nbformat": 4,
 "nbformat_minor": 2
}
