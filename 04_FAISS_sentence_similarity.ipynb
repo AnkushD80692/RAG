{
 "cells": [
  {
   "cell_type": "code",
   "execution_count": 7,
   "metadata": {},
   "outputs": [],
   "source": [
    "from sentence_transformers import SentenceTransformer\n",
    "from langchain.text_splitter import RecursiveCharacterTextSplitter\n",
    "\n",
    "import numpy as np\n",
    "import faiss\n",
    "import pdfplumber\n"
   ]
  },
  {
   "cell_type": "code",
   "execution_count": 2,
   "metadata": {},
   "outputs": [],
   "source": [
    "model = SentenceTransformer('sentence-transformers/all-MiniLM-L6-v2')"
   ]
  },
  {
   "cell_type": "code",
   "execution_count": 9,
   "metadata": {},
   "outputs": [],
   "source": [
    "def create_index_add_embedding(embeddings):\n",
    "    embedding_dimension = embeddings.shape[1]\n",
    "    index = faiss.IndexFlatL2(embedding_dimension)\n",
    "    index.add(embeddings)\n",
    "    print(f\"Number of vectors in FAISS index: {index.ntotal}\")\n",
    "    return index\n",
    "\n",
    "def search_faiss(index,query, top_k,document):\n",
    "    # Generate the embedding for the query\n",
    "    query_embedding = model.encode([query])  # We pass the query as a list to keep it consistent with the batch processing\n",
    "    query_embedding = np.array(query_embedding).astype('float32')\n",
    "\n",
    "    # Perform the search for the top 2 most similar documents\n",
    "    k = 1  # Number of nearest neighbors to retrieve\n",
    "    distances, indices = index.search(query_embedding, top_k)\n",
    "\n",
    "    # Print the results\n",
    "    print(f\"Distances: {distances}\")\n",
    "    print(f\"Indices: {indices}\")\n",
    "\n",
    "    # Retrieve and print the most relevant documents\n",
    "    for idx in indices[0]:\n",
    "        print(f\"Relevant Document: {document[idx]}\")\n",
    "\n",
    "\n",
    "def pdf_to_text(path):\n",
    "        \n",
    "    with pdfplumber.open(pdf_file_path) as pdf:\n",
    "        extracted_text = \"\"\n",
    "\n",
    "        # Iterate through each page and extract text\n",
    "        for page in pdf.pages:\n",
    "            extracted_text += page.extract_text()  # Extract text from the page\n",
    "    return extracted_text\n",
    "    "
   ]
  },
  {
   "cell_type": "code",
   "execution_count": 10,
   "metadata": {},
   "outputs": [],
   "source": [
    "\n",
    "# Open the PDF file\n",
    "pdf_file_path = \"media/Renuka/HOME_LOAN/HELP_IN_DISBURSEMENT_2/disb_advice.pdf\"\n",
    "extracted_text = pdf_to_text(pdf_file_path)\n",
    "\n",
    "\n",
    "# Initialize the text splitter with chunk size and overlap size\n",
    "text_splitter = RecursiveCharacterTextSplitter(\n",
    "    chunk_size=500,  # Max number of characters per chunk\n",
    "    chunk_overlap=20  # Allow some overlap between chunks for better context preservation\n",
    ")\n",
    "\n",
    "# Split the text into chunks\n",
    "chunks = text_splitter.split_text(extracted_text)"
   ]
  },
  {
   "cell_type": "code",
   "execution_count": 11,
   "metadata": {},
   "outputs": [
    {
     "name": "stdout",
     "output_type": "stream",
     "text": [
      "Number of vectors in FAISS index: 5\n"
     ]
    }
   ],
   "source": [
    "document = chunks\n",
    "embeddings = model.encode(document)\n",
    "faiss_index = create_index_add_embedding(embeddings)"
   ]
  },
  {
   "cell_type": "code",
   "execution_count": 15,
   "metadata": {},
   "outputs": [
    {
     "name": "stdout",
     "output_type": "stream",
     "text": [
      "Distances: [[0.9477917 1.147608 ]]\n",
      "Indices: [[1 0]]\n",
      "Relevant Document: _______________________\n",
      "Total: 3716\n",
      "_______________________\n",
      "As per your request to commence repayment of principal prior to the loan being fully disbursed,\n",
      "this repayment option is being given till any further disbursement of the loan is made.\n",
      "EQUATED MONTHLY INSTALLMENT(EMI)\n",
      "EMI - From 01-FEB-2024 Rs. 5850 **\n",
      "till you avail of further disbursement.\n",
      "The EMI/s are payable during the month or on or before the due date.\n",
      "The rate of interest (ROI) will be subjected to reset*** on 01-MAR-24.\n",
      "Relevant Document: PART DISBURSEMENT ADVICE CUM INSTALLMENT ADVICE Date : 11-JAN-24 03:53 P.M.\n",
      "========================================================================================\n",
      "Loan Account No : 686857777\n",
      "Loan Product : RESIDENT HOME LOAN-VARIABLE RATE-MONTHLY REST\n",
      "Name : MR DESHMUKH ANKUSH SANJAYRAO\n",
      "Loan Sanctioned : Rs. 5990001\n",
      "Current Disbursement : Rs. 764287\n",
      "Total Loan Disbursed : Rs. 764287\n",
      "Loan Yet to be Disbursed : Rs. 5225714\n",
      "PRE-EMI Interest * @8.45% for the month of JAN-2024 . Rs. 3,716\n"
     ]
    }
   ],
   "source": [
    "# Example query\n",
    "query = \" how much pre-emi interest?\"\n",
    "top_k = 2\n",
    "search_faiss(faiss_index,query, top_k,document)"
   ]
  },
  {
   "cell_type": "code",
   "execution_count": null,
   "metadata": {},
   "outputs": [],
   "source": []
  }
 ],
 "metadata": {
  "kernelspec": {
   "display_name": ".venv",
   "language": "python",
   "name": "python3"
  },
  "language_info": {
   "codemirror_mode": {
    "name": "ipython",
    "version": 3
   },
   "file_extension": ".py",
   "mimetype": "text/x-python",
   "name": "python",
   "nbconvert_exporter": "python",
   "pygments_lexer": "ipython3",
   "version": "3.9.13"
  }
 },
 "nbformat": 4,
 "nbformat_minor": 2
}
