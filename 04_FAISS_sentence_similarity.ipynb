{
 "cells": [
  {
   "cell_type": "code",
   "execution_count": 1,
   "metadata": {},
   "outputs": [
    {
     "name": "stderr",
     "output_type": "stream",
     "text": [
      "c:\\Users\\ankus\\OneDrive\\Desktop\\JAN_2025\\RAG\\.venv\\lib\\site-packages\\tqdm\\auto.py:21: TqdmWarning: IProgress not found. Please update jupyter and ipywidgets. See https://ipywidgets.readthedocs.io/en/stable/user_install.html\n",
      "  from .autonotebook import tqdm as notebook_tqdm\n"
     ]
    }
   ],
   "source": [
    "from sentence_transformers import SentenceTransformer\n",
    "import numpy as np\n",
    "import faiss"
   ]
  },
  {
   "cell_type": "code",
   "execution_count": 2,
   "metadata": {},
   "outputs": [],
   "source": [
    "model = SentenceTransformer('sentence-transformers/all-MiniLM-L6-v2')"
   ]
  },
  {
   "cell_type": "code",
   "execution_count": 3,
   "metadata": {},
   "outputs": [],
   "source": [
    "def create_index_add_embedding(embeddings):\n",
    "    embedding_dimension = embeddings.shape[1]\n",
    "    index = faiss.IndexFlatL2(embedding_dimension)\n",
    "    index.add(embeddings)\n",
    "    print(f\"Number of vectors in FAISS index: {index.ntotal}\")\n",
    "    return index\n",
    "\n",
    "def search_faiss(index,query, top_k,document):\n",
    "    # Generate the embedding for the query\n",
    "    query_embedding = model.encode([query])  # We pass the query as a list to keep it consistent with the batch processing\n",
    "    query_embedding = np.array(query_embedding).astype('float32')\n",
    "\n",
    "    # Perform the search for the top 2 most similar documents\n",
    "    k = 1  # Number of nearest neighbors to retrieve\n",
    "    distances, indices = index.search(query_embedding, top_k)\n",
    "\n",
    "    # Print the results\n",
    "    print(f\"Distances: {distances}\")\n",
    "    print(f\"Indices: {indices}\")\n",
    "\n",
    "    # Retrieve and print the most relevant documents\n",
    "    for idx in indices[0]:\n",
    "        print(f\"Relevant Document: {document[idx]}\")\n",
    "    "
   ]
  },
  {
   "cell_type": "code",
   "execution_count": 4,
   "metadata": {},
   "outputs": [
    {
     "name": "stdout",
     "output_type": "stream",
     "text": [
      "Number of vectors in FAISS index: 2\n"
     ]
    }
   ],
   "source": [
    "document = [\"ankush is a boy, aadhaar number is 12324242, he likes pan pizza\",\"ankush is a boy pan number is 232525 and needs to have tablet named dopamicnine\"]\n",
    "embeddings = model.encode(document)\n",
    "faiss_index = create_index_add_embedding(embeddings)"
   ]
  },
  {
   "cell_type": "code",
   "execution_count": 6,
   "metadata": {},
   "outputs": [
    {
     "name": "stdout",
     "output_type": "stream",
     "text": [
      "Distances: [[1.3244383]]\n",
      "Indices: [[0]]\n",
      "Relevant Document: ankush is a boy, aadhaar number is 12324242, he likes pan pizza\n"
     ]
    }
   ],
   "source": [
    "# Example query\n",
    "query = \"who is the boy ?\"\n",
    "top_k = 1\n",
    "search_faiss(faiss_index,query, top_k,document)"
   ]
  }
 ],
 "metadata": {
  "kernelspec": {
   "display_name": ".venv",
   "language": "python",
   "name": "python3"
  },
  "language_info": {
   "codemirror_mode": {
    "name": "ipython",
    "version": 3
   },
   "file_extension": ".py",
   "mimetype": "text/x-python",
   "name": "python",
   "nbconvert_exporter": "python",
   "pygments_lexer": "ipython3",
   "version": "3.9.13"
  }
 },
 "nbformat": 4,
 "nbformat_minor": 2
}
